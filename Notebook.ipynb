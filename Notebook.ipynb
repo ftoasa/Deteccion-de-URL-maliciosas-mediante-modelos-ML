{
 "cells": [
  {
   "cell_type": "markdown",
   "id": "f4cf2d75",
   "metadata": {},
   "source": [
    "# Detección de URL Maliciosas mediante modelos Machine Learning"
   ]
  }
 ],
 "metadata": {
  "language_info": {
   "name": "python"
  }
 },
 "nbformat": 4,
 "nbformat_minor": 5
}
