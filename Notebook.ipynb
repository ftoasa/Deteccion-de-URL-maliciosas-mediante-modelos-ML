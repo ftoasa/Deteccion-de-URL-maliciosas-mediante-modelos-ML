{
 "cells": [
  {
   "cell_type": "markdown",
   "id": "7e758e63",
   "metadata": {},
   "source": [
    "# Detección de URL Maliciosas mediante modelos Machine Learning"
   ]
  },
  {
   "cell_type": "markdown",
   "id": "ae9a35a2",
   "metadata": {},
   "source": [
    "<h2 style=\"width: 100%;\n",
    "    margin: 0;\n",
    "    padding: 0;\n",
    "    text-align: center;\">---- Table of contents ----</h2>\n",
    "\n",
    "1. [Importing Libraries](#1)\n",
    "2. [Load Dataset](#2)\n",
    "3. [Meta information of Dataframe](#3)\n",
    "4. [Checking for NaN values](#4)\n",
    "5. [Feature Extraction](#5)\n",
    "6. [Train & Test Split](#6)\n",
    "7. [Training models](#7)\n",
    "  <ul>\n",
    "      <li>✔️ Decision Tree Classifier</li>\n",
    "      <li>✔️ Random Forest Classifier</li>\n",
    "      <li>✔️ AdaBoost Classifier</li>\n",
    "      <li>✔️ KNeighbors Classifier</li>\n",
    "      <li>✔️ SGD Classifier</li>\n",
    "      <li>✔️ Extra Trees Classifier</li>\n",
    "      <li>✔️ Gaussian NB</li>\n",
    "  </ul>\n",
    "8. [Final Report](#8)"
   ]
  },
  {
   "cell_type": "markdown",
   "id": "ed40f377",
   "metadata": {},
   "source": [
    "\n",
    "## Gestor de paquetes python.\n",
    "\n",
    "La librería tld (Top Level Domain extractor) permite extraer y validar el dominio de una URL. Es muy útil en ciberseguridad porque muchos ataques se esconden en TLDs poco comunes o sospechosos (.xyz, .tk, .top, etc.)."
   ]
  },
  {
   "cell_type": "code",
   "execution_count": null,
   "id": "95f34316",
   "metadata": {},
   "outputs": [
    {
     "name": "stdout",
     "output_type": "stream",
     "text": [
      "Requirement already satisfied: tld in /opt/conda/lib/python3.7/site-packages (0.13.1)\n",
      "\u001b[33mWARNING: Running pip as the 'root' user can result in broken permissions and conflicting behaviour with the system package manager. It is recommended to use a virtual environment instead: https://pip.pypa.io/warnings/venv\u001b[0m\n",
      "Note: you may need to restart the kernel to use updated packages.\n"
     ]
    }
   ],
   "source": [
    "pip install tld"
   ]
  },
  {
   "cell_type": "markdown",
   "id": "ce143a45",
   "metadata": {},
   "source": [
    "<a id=\"1\"></a> <br>\n",
    "# 📥 Importando Librerias"
   ]
  },
  {
   "cell_type": "markdown",
   "id": "4ba6683d",
   "metadata": {},
   "source": [
    "## Librerías de manejo de datos y utilidades\n",
    "\n",
    "`import re`\n",
    "→ Permite trabajar con expresiones regulares, muy útiles para extraer patrones de texto (ej: detectar si una URL tiene números, subdominios raros, etc.).\n",
    "\n",
    "`import numpy as np`\n",
    "→ Biblioteca para trabajar con arrays numéricos y operaciones matemáticas rápidas.\n",
    "\n",
    "`import pandas as pd`\n",
    "→ Manejo de datasets tabulares (archivos .csv, .xlsx, etc.). Ideal para cargar, limpiar y explorar datos.\n",
    "\n",
    "## Visualización de datos\n",
    "\n",
    "`import seaborn as sns`\n",
    "→ Librería para visualización estadística basada en matplotlib. Permite hacer gráficos como heatmaps, distribuciones, correlaciones, etc.\n",
    "\n",
    "`import matplotlib.pyplot as plt`\n",
    "→ Librería clásica de gráficos. Da control total para personalizar visualizaciones.\n",
    "\n",
    "`from colorama import Fore`\n",
    "→ Permite imprimir mensajes en la terminal con colores. Útil para resaltar resultados (por ejemplo, mostrar en verde si un modelo tuvo buena precisión).\n",
    "\n",
    "## Procesamiento de URLs\n",
    "\n",
    "`from urllib.parse import urlparse`\n",
    "→ Sirve para descomponer una URL en partes (protocolo, dominio, path, query, etc.). Muy usado en datasets de ciberseguridad con URLs.\n",
    "\n",
    "`from tld import get_tld, is_tld`\n",
    "→ Permite extraer y validar el TLD (Top-Level Domain, como .com, .org, .xyz) de una URL.\n",
    "Ejemplo: get_tld(\"http://phishing-site.xyz\") devuelve \"xyz\"."
   ]
  },
  {
   "cell_type": "markdown",
   "id": "335c2dee",
   "metadata": {},
   "source": [
    "## Machine Learning (scikit-learn)\n",
    "\n",
    "`from sklearn.model_selection import train_test_split`\n",
    "→ Sirve para dividir el dataset en train (entrenamiento) y test (evaluación).\n",
    "\n",
    "`from sklearn.metrics import confusion_matrix, classification_report, accuracy_score`\n",
    "→ Funciones para evaluar modelos:\n",
    "\n",
    "    - Confusion Matrix: aciertos y errores por clase.\n",
    "    \n",
    "    - Classification Report: precisión, recall, F1-score.\n",
    "    \n",
    "    - Accuracy: porcentaje de aciertos global.\n",
    "\n",
    "### Modelos de clasificación:\n",
    "    \n",
    "    1. DecisionTreeClassifier → Árbol de decisión. Modelo simple, interpretable.\n",
    "    \n",
    "    2. RandomForestClassifier → Ensamble de árboles, más robusto.\n",
    "    \n",
    "    3. AdaBoostClassifier → Ensamble que mejora iterativamente clasificadores débiles.\n",
    "    \n",
    "    4. ExtraTreesClassifier → Variante más aleatoria que Random Forest.\n",
    "    \n",
    "    5. KNeighborsClassifier → Clasificación basada en vecinos más cercanos.\n",
    "    \n",
    "    6. SGDClassifier → Clasificador rápido basado en descenso de gradiente estocástico.\n",
    "    \n",
    "    7. GaussianNB → Clasificador Naive Bayes gaussiano, muy usado en texto/URLs."
   ]
  },
  {
   "cell_type": "code",
   "execution_count": null,
   "id": "c923f863",
   "metadata": {},
   "outputs": [],
   "source": [
    "import re\n",
    "import numpy as np\n",
    "import pandas as pd\n",
    "import seaborn as sns\n",
    "import matplotlib.pyplot as plt\n",
    "from colorama import Fore\n",
    "from urllib.parse import urlparse\n",
    "from sklearn.model_selection import train_test_split\n",
    "from sklearn.metrics import confusion_matrix, classification_report, accuracy_score\n",
    "from sklearn.tree import DecisionTreeClassifier\n",
    "from sklearn.ensemble import RandomForestClassifier, AdaBoostClassifier, ExtraTreesClassifier\n",
    "from sklearn.neighbors import KNeighborsClassifier\n",
    "from sklearn.linear_model import SGDClassifier\n",
    "from sklearn.naive_bayes import GaussianNB\n",
    "from tld import get_tld, is_tld"
   ]
  },
  {
   "cell_type": "markdown",
   "id": "2c61e9e6",
   "metadata": {},
   "source": [
    "<a id=\"2\"></a> <br>\n",
    "# 🗃️ Cargar Dataset"
   ]
  },
  {
   "cell_type": "markdown",
   "id": "4429bd91",
   "metadata": {},
   "source": [
    "`pd` → es el alias de a pandas.\n",
    "\n",
    "`read_csv()` → función de pandas para leer un archivo CSV y convertir en un DataFrame.\n",
    "\n",
    "`../input/malicious-urls-dataset/malicious_phish.csv` → es la ruta del archivo CSV que contiene el dataset:\n",
    "\n",
    "`/input/malicious-urls-dataset/` → carpeta donde está almacenado el dataset en Kaggle.\n",
    "\n",
    "`malicious_phish.csv` → archivo que contiene las URLs con su etiqueta (benigna, phishing, malware, etc.).\n",
    "\n",
    "`data` → será el nombre del DataFrame que guarda todo el dataset."
   ]
  },
  {
   "cell_type": "markdown",
   "id": "8713a83f",
   "metadata": {},
   "source": [
    "\n",
    "Cargamos el dataset `malicious_phish.csv` al DataFrame de pandas.\n",
    "\n",
    "`head()` → muestra las primeras 5 filas del DataFrame."
   ]
  },
  {
   "cell_type": "code",
   "execution_count": null,
   "id": "e4f5dee7",
   "metadata": {},
   "outputs": [
    {
     "data": {
      "text/html": [
       "<div>\n",
       "<style scoped>\n",
       "    .dataframe tbody tr th:only-of-type {\n",
       "        vertical-align: middle;\n",
       "    }\n",
       "\n",
       "    .dataframe tbody tr th {\n",
       "        vertical-align: top;\n",
       "    }\n",
       "\n",
       "    .dataframe thead th {\n",
       "        text-align: right;\n",
       "    }\n",
       "</style>\n",
       "<table border=\"1\" class=\"dataframe\">\n",
       "  <thead>\n",
       "    <tr style=\"text-align: right;\">\n",
       "      <th></th>\n",
       "      <th>url</th>\n",
       "      <th>type</th>\n",
       "    </tr>\n",
       "  </thead>\n",
       "  <tbody>\n",
       "    <tr>\n",
       "      <th>0</th>\n",
       "      <td>br-icloud.com.br</td>\n",
       "      <td>phishing</td>\n",
       "    </tr>\n",
       "    <tr>\n",
       "      <th>1</th>\n",
       "      <td>mp3raid.com/music/krizz_kaliko.html</td>\n",
       "      <td>benign</td>\n",
       "    </tr>\n",
       "    <tr>\n",
       "      <th>2</th>\n",
       "      <td>bopsecrets.org/rexroth/cr/1.htm</td>\n",
       "      <td>benign</td>\n",
       "    </tr>\n",
       "    <tr>\n",
       "      <th>3</th>\n",
       "      <td>http://www.garage-pirenne.be/index.php?option=...</td>\n",
       "      <td>defacement</td>\n",
       "    </tr>\n",
       "    <tr>\n",
       "      <th>4</th>\n",
       "      <td>http://adventure-nicaragua.net/index.php?optio...</td>\n",
       "      <td>defacement</td>\n",
       "    </tr>\n",
       "  </tbody>\n",
       "</table>\n",
       "</div>"
      ],
      "text/plain": [
       "                                                 url        type\n",
       "0                                   br-icloud.com.br    phishing\n",
       "1                mp3raid.com/music/krizz_kaliko.html      benign\n",
       "2                    bopsecrets.org/rexroth/cr/1.htm      benign\n",
       "3  http://www.garage-pirenne.be/index.php?option=...  defacement\n",
       "4  http://adventure-nicaragua.net/index.php?optio...  defacement"
      ]
     },
     "metadata": {},
     "output_type": "display_data"
    }
   ],
   "source": [
    "data = pd.read_csv('../input/malicious-urls-dataset/malicious_phish.csv')\n",
    "data.head()"
   ]
  },
  {
   "cell_type": "markdown",
   "id": "58dea978",
   "metadata": {},
   "source": [
    "<a id=\"3\"></a> <br>\n",
    "# 📝 Procesamiento de los Datos"
   ]
  },
  {
   "cell_type": "markdown",
   "id": "111a8066",
   "metadata": {},
   "source": [
    "<a id=\"3\"></a> <br>\n",
    "# 📝 Meta information of Dataframe"
   ]
  },
  {
   "cell_type": "markdown",
   "id": "a5c018da",
   "metadata": {},
   "source": [
    "### `info()` → es un método de pandas DataFrame, muestra un resumen completo del Dataset, que incluye:\n",
    "\n",
    "    1. Número de filas y columnas → tamaño del dataset.\n",
    "    \n",
    "    2. Nombre de cada columna.\n",
    "    \n",
    "    3. Número de valores no nulos en cada columna (sirve para detectar datos faltantes).\n",
    "    \n",
    "    4. Tipo de dato de cada columna (object, int64, float64, etc.).\n",
    "    \n",
    "    5. Uso de memoria del DataFrame."
   ]
  },
  {
   "cell_type": "code",
   "execution_count": null,
   "id": "7d9e43ca",
   "metadata": {},
   "outputs": [
    {
     "name": "stdout",
     "output_type": "stream",
     "text": [
      "<class 'pandas.core.frame.DataFrame'>\n",
      "RangeIndex: 651191 entries, 0 to 651190\n",
      "Data columns (total 2 columns):\n",
      " #   Column  Non-Null Count   Dtype \n",
      "---  ------  --------------   ----- \n",
      " 0   url     651191 non-null  object\n",
      " 1   type    651191 non-null  object\n",
      "dtypes: object(2)\n",
      "memory usage: 9.9+ MB\n"
     ]
    }
   ],
   "source": [
    "data.info()"
   ]
  },
  {
   "cell_type": "markdown",
   "id": "9eed2f3c",
   "metadata": {},
   "source": [
    "# Limpieza, Transformado y Adaptado de los datos."
   ]
  },
  {
   "cell_type": "markdown",
   "id": "e04ddb3d",
   "metadata": {},
   "source": [
    "<a id=\"4\"></a>\n",
    "# 🔎 Checking for NaN values"
   ]
  },
  {
   "cell_type": "markdown",
   "id": "8190d456",
   "metadata": {},
   "source": [
    "### data.isnull() → Revisa todo el DataFrame y devuelve una tabla booleana del mismo tamaño:\n",
    "\n",
    "    1. True si el valor es nulo (faltante).\n",
    "    \n",
    "    2. False si el valor está presente.\n",
    "\n",
    "### .sum()\n",
    "\n",
    "    1. Aplica una suma por columna: cuenta cuántos `True` existen (True=1 y False=0).\n",
    "\n",
    "    2. Se obtiene el número total de valores nulos por columna.\n",
    "\n",
    "\n",
    "**Verificamos si existen valores nulos en las columnas (`url y type`). Devuelve el valor existe en cada una.**\n",
    "\n",
    "**El Dataset devuelve 0, es decir está limpio.**"
   ]
  },
  {
   "cell_type": "code",
   "execution_count": null,
   "id": "15ba31ed",
   "metadata": {},
   "outputs": [
    {
     "data": {
      "text/plain": [
       "url     0\n",
       "type    0\n",
       "dtype: int64"
      ]
     },
     "metadata": {},
     "output_type": "display_data"
    }
   ],
   "source": [
    "data.isnull().sum()"
   ]
  },
  {
   "cell_type": "markdown",
   "id": "d0bc571e",
   "metadata": {},
   "source": [
    "**`data.type.value_counts()` → cuenta cuántos registros existen de las etiquetas `(benign, phishing, malware, defacement).`**\n",
    "\n",
    "Almacena el valor en la variable `count.`\n",
    "\n",
    "**`count` = Imprime el valor.**"
   ]
  },
  {
   "cell_type": "code",
   "execution_count": null,
   "id": "de6d53bf",
   "metadata": {},
   "outputs": [
    {
     "data": {
      "text/plain": [
       "benign        428103\n",
       "defacement     96457\n",
       "phishing       94111\n",
       "malware        32520\n",
       "Name: type, dtype: int64"
      ]
     },
     "metadata": {},
     "output_type": "display_data"
    }
   ],
   "source": [
    "count = data.type.value_counts()\n",
    "count"
   ]
  },
  {
   "cell_type": "markdown",
   "id": "6ed7da66",
   "metadata": {},
   "source": [
    "### Seaborn crea un gráfico de barras.\n",
    "\n",
    "`x=count.index` → las etiquetas de las clases (benign, phishing, etc.).\n",
    "\n",
    "`y=count` → el número de URLs de cada clase.\n",
    "\n",
    "`plt.xlabel y plt.ylabel` = los títulos de los ejes.\n",
    "\n",
    "## El gráfico indica el desbalance del dataset (Existen más URLs benignas que malware)."
   ]
  },
  {
   "cell_type": "code",
   "execution_count": null,
   "id": "7bce9047",
   "metadata": {},
   "outputs": [
    {
     "data": {
      "image/png": "[encoded data removed]",
      "text/plain": [
       "<Figure size 432x288 with 1 Axes>"
      ]
     },
     "metadata": {},
     "output_type": "display_data"
    }
   ],
   "source": [
    "sns.barplot(x=count.index, y=count)\n",
    "plt.xlabel('Types')\n",
    "plt.ylabel('Count');"
   ]
  },
  {
   "cell_type": "markdown",
   "id": "a01453ea",
   "metadata": {},
   "source": [
    "<h4>first have to omit the (www.) from the URL which is in fact a sub domain in itself.</h4>"
   ]
  },
  {
   "cell_type": "markdown",
   "id": "8f3f0b46",
   "metadata": {},
   "source": [
    "### Reemplazamos el texto \"www.\" en las URLs por vacío \"\".\n",
    "\n",
    "`regex=True` =  indica que la búsqueda se hace con expresiones regulares para normalizar las URLs, ya que \"www.google.com\" y \"google.com\" redirigen al mismo sitio."
   ]
  },
  {
   "cell_type": "code",
   "execution_count": null,
   "id": "fd7e6d43",
   "metadata": {},
   "outputs": [
    {
     "data": {
      "text/html": [
       "<div>\n",
       "<style scoped>\n",
       "    .dataframe tbody tr th:only-of-type {\n",
       "        vertical-align: middle;\n",
       "    }\n",
       "\n",
       "    .dataframe tbody tr th {\n",
       "        vertical-align: top;\n",
       "    }\n",
       "\n",
       "    .dataframe thead th {\n",
       "        text-align: right;\n",
       "    }\n",
       "</style>\n",
       "<table border=\"1\" class=\"dataframe\">\n",
       "  <thead>\n",
       "    <tr style=\"text-align: right;\">\n",
       "      <th></th>\n",
       "      <th>url</th>\n",
       "      <th>type</th>\n",
       "    </tr>\n",
       "  </thead>\n",
       "  <tbody>\n",
       "    <tr>\n",
       "      <th>0</th>\n",
       "      <td>br-icloud.com.br</td>\n",
       "      <td>phishing</td>\n",
       "    </tr>\n",
       "    <tr>\n",
       "      <th>1</th>\n",
       "      <td>mp3raid.com/music/krizz_kaliko.html</td>\n",
       "      <td>benign</td>\n",
       "    </tr>\n",
       "    <tr>\n",
       "      <th>2</th>\n",
       "      <td>bopsecrets.org/rexroth/cr/1.htm</td>\n",
       "      <td>benign</td>\n",
       "    </tr>\n",
       "    <tr>\n",
       "      <th>3</th>\n",
       "      <td>http://garage-pirenne.be/index.php?option=com_...</td>\n",
       "      <td>defacement</td>\n",
       "    </tr>\n",
       "    <tr>\n",
       "      <th>4</th>\n",
       "      <td>http://adventure-nicaragua.net/index.php?optio...</td>\n",
       "      <td>defacement</td>\n",
       "    </tr>\n",
       "    <tr>\n",
       "      <th>...</th>\n",
       "      <td>...</td>\n",
       "      <td>...</td>\n",
       "    </tr>\n",
       "    <tr>\n",
       "      <th>651186</th>\n",
       "      <td>xbox360.ign.com/objects/850/850402.html</td>\n",
       "      <td>phishing</td>\n",
       "    </tr>\n",
       "    <tr>\n",
       "      <th>651187</th>\n",
       "      <td>games.teamxbox.com/xbox-360/1860/Dead-Space/</td>\n",
       "      <td>phishing</td>\n",
       "    </tr>\n",
       "    <tr>\n",
       "      <th>651188</th>\n",
       "      <td>gamespot.com/xbox360/action/deadspace/</td>\n",
       "      <td>phishing</td>\n",
       "    </tr>\n",
       "    <tr>\n",
       "      <th>651189</th>\n",
       "      <td>en.wikipedia.org/wiki/Dead_Space_(video_game)</td>\n",
       "      <td>phishing</td>\n",
       "    </tr>\n",
       "    <tr>\n",
       "      <th>651190</th>\n",
       "      <td>angelfire.com/goth/devilmaycrytonite/</td>\n",
       "      <td>phishing</td>\n",
       "    </tr>\n",
       "  </tbody>\n",
       "</table>\n",
       "<p>651191 rows × 2 columns</p>\n",
       "</div>"
      ],
      "text/plain": [
       "                                                      url        type\n",
       "0                                        br-icloud.com.br    phishing\n",
       "1                     mp3raid.com/music/krizz_kaliko.html      benign\n",
       "2                         bopsecrets.org/rexroth/cr/1.htm      benign\n",
       "3       http://garage-pirenne.be/index.php?option=com_...  defacement\n",
       "4       http://adventure-nicaragua.net/index.php?optio...  defacement\n",
       "...                                                   ...         ...\n",
       "651186            xbox360.ign.com/objects/850/850402.html    phishing\n",
       "651187       games.teamxbox.com/xbox-360/1860/Dead-Space/    phishing\n",
       "651188             gamespot.com/xbox360/action/deadspace/    phishing\n",
       "651189      en.wikipedia.org/wiki/Dead_Space_(video_game)    phishing\n",
       "651190              angelfire.com/goth/devilmaycrytonite/    phishing\n",
       "\n",
       "[651191 rows x 2 columns]"
      ]
     },
     "metadata": {},
     "output_type": "display_data"
    }
   ],
   "source": [
    "data['url'] = data['url'].replace('www.', '', regex=True)\n",
    "data"
   ]
  },
  {
   "cell_type": "markdown",
   "id": "dc3178c3",
   "metadata": {},
   "source": [
    "### Muestra nuevamente las primeras 5 filas para verificar que el reemplazo de \"www.\" se aplicó correctamente."
   ]
  },
  {
   "cell_type": "code",
   "execution_count": null,
   "id": "b6c02f17",
   "metadata": {},
   "outputs": [
    {
     "data": {
      "text/html": [
       "<div>\n",
       "<style scoped>\n",
       "    .dataframe tbody tr th:only-of-type {\n",
       "        vertical-align: middle;\n",
       "    }\n",
       "\n",
       "    .dataframe tbody tr th {\n",
       "        vertical-align: top;\n",
       "    }\n",
       "\n",
       "    .dataframe thead th {\n",
       "        text-align: right;\n",
       "    }\n",
       "</style>\n",
       "<table border=\"1\" class=\"dataframe\">\n",
       "  <thead>\n",
       "    <tr style=\"text-align: right;\">\n",
       "      <th></th>\n",
       "      <th>url</th>\n",
       "      <th>type</th>\n",
       "    </tr>\n",
       "  </thead>\n",
       "  <tbody>\n",
       "    <tr>\n",
       "      <th>0</th>\n",
       "      <td>br-icloud.com.br</td>\n",
       "      <td>phishing</td>\n",
       "    </tr>\n",
       "    <tr>\n",
       "      <th>1</th>\n",
       "      <td>mp3raid.com/music/krizz_kaliko.html</td>\n",
       "      <td>benign</td>\n",
       "    </tr>\n",
       "    <tr>\n",
       "      <th>2</th>\n",
       "      <td>bopsecrets.org/rexroth/cr/1.htm</td>\n",
       "      <td>benign</td>\n",
       "    </tr>\n",
       "    <tr>\n",
       "      <th>3</th>\n",
       "      <td>http://garage-pirenne.be/index.php?option=com_...</td>\n",
       "      <td>defacement</td>\n",
       "    </tr>\n",
       "    <tr>\n",
       "      <th>4</th>\n",
       "      <td>http://adventure-nicaragua.net/index.php?optio...</td>\n",
       "      <td>defacement</td>\n",
       "    </tr>\n",
       "  </tbody>\n",
       "</table>\n",
       "</div>"
      ],
      "text/plain": [
       "                                                 url        type\n",
       "0                                   br-icloud.com.br    phishing\n",
       "1                mp3raid.com/music/krizz_kaliko.html      benign\n",
       "2                    bopsecrets.org/rexroth/cr/1.htm      benign\n",
       "3  http://garage-pirenne.be/index.php?option=com_...  defacement\n",
       "4  http://adventure-nicaragua.net/index.php?optio...  defacement"
      ]
     },
     "metadata": {},
     "output_type": "display_data"
    }
   ],
   "source": [
    "data.head()"
   ]
  },
  {
   "cell_type": "markdown",
   "id": "fc601091",
   "metadata": {},
   "source": [
    "### Se crea un diccionario `rem` con un mapeo de categorías a números:\n",
    "\n",
    "    1. benign → 0\n",
    "    \n",
    "    2. defacement → 1\n",
    "    \n",
    "    3. phishing → 2\n",
    "    \n",
    "    4. malware → 3\n",
    "\n",
    "Se añade una nueva columna `Category` copiando el contenido de type.\n",
    "\n",
    "### `data.replace(rem)` → reemplaza los valores de la columna Category según el diccionario."
   ]
  },
  {
   "cell_type": "code",
   "execution_count": null,
   "id": "b90cfea6",
   "metadata": {},
   "outputs": [],
   "source": [
    "rem = {\"Category\": {\"benign\": 0, \"defacement\": 1, \"phishing\":2, \"malware\":3}}\n",
    "data['Category'] = data['type']\n",
    "data = data.replace(rem)"
   ]
  },
  {
   "cell_type": "markdown",
   "id": "18ddf381",
   "metadata": {},
   "source": [
    "<a id=\"5\"></a> <br>\n",
    "# 🦾 Feature Extraction"
   ]
  },
  {
   "cell_type": "markdown",
   "id": "0b7a86a1",
   "metadata": {},
   "source": [
    "## El bloque de `feature extraction` es la parte central del preprocesamiento, porque convierte cada URL en un conjunto de números que los algoritmos de Machine Learning sí entienden."
   ]
  },
  {
   "cell_type": "markdown",
   "id": "85ed5630",
   "metadata": {},
   "source": [
    "`data['url_len'] = data['url'].apply(lambda x: len(str(x)))`\n",
    "\n",
    "    Crea una columna url_len con el número de caracteres de cada URL.\n",
    "\n",
    "    URLs maliciosas suelen ser más largas o cortas (cuando usan acortadores)."
   ]
  },
  {
   "cell_type": "code",
   "execution_count": null,
   "id": "e3aa2453",
   "metadata": {},
   "outputs": [],
   "source": [
    "data['url_len'] = data['url'].apply(lambda x: len(str(x)))"
   ]
  },
  {
   "cell_type": "markdown",
   "id": "81251d68",
   "metadata": {},
   "source": [
    "### Hacemos uso de la herramienta TLD\n",
    "    \n",
    "    1. Extraemos el dominio principal de la URL.\n",
    "    \n",
    "    2. Si falla, devuelve None.\n",
    "    \n",
    "    3. Esto sirve porque muchos dominios raros o recién creados son sospechosos."
   ]
  },
  {
   "cell_type": "code",
   "execution_count": null,
   "id": "c6731a14",
   "metadata": {},
   "outputs": [],
   "source": [
    "def process_tld(url):\n",
    "    try:\n",
    "        res = get_tld(url, as_object = True, fail_silently=False,fix_protocol=True)\n",
    "        pri_domain= res.parsed_url.netloc\n",
    "    except :\n",
    "        pri_domain= None\n",
    "    return pri_domain"
   ]
  },
  {
   "cell_type": "code",
   "execution_count": null,
   "id": "0c04356b",
   "metadata": {},
   "outputs": [],
   "source": [
    "data['domain'] = data['url'].apply(lambda i: process_tld(i))"
   ]
  },
  {
   "cell_type": "code",
   "execution_count": null,
   "id": "7abc26e4",
   "metadata": {},
   "outputs": [
    {
     "data": {
      "text/html": [
       "<div>\n",
       "<style scoped>\n",
       "    .dataframe tbody tr th:only-of-type {\n",
       "        vertical-align: middle;\n",
       "    }\n",
       "\n",
       "    .dataframe tbody tr th {\n",
       "        vertical-align: top;\n",
       "    }\n",
       "\n",
       "    .dataframe thead th {\n",
       "        text-align: right;\n",
       "    }\n",
       "</style>\n",
       "<table border=\"1\" class=\"dataframe\">\n",
       "  <thead>\n",
       "    <tr style=\"text-align: right;\">\n",
       "      <th></th>\n",
       "      <th>url</th>\n",
       "      <th>type</th>\n",
       "      <th>Category</th>\n",
       "      <th>url_len</th>\n",
       "      <th>domain</th>\n",
       "    </tr>\n",
       "  </thead>\n",
       "  <tbody>\n",
       "    <tr>\n",
       "      <th>0</th>\n",
       "      <td>br-icloud.com.br</td>\n",
       "      <td>phishing</td>\n",
       "      <td>2</td>\n",
       "      <td>16</td>\n",
       "      <td>br-icloud.com.br</td>\n",
       "    </tr>\n",
       "    <tr>\n",
       "      <th>1</th>\n",
       "      <td>mp3raid.com/music/krizz_kaliko.html</td>\n",
       "      <td>benign</td>\n",
       "      <td>0</td>\n",
       "      <td>35</td>\n",
       "      <td>mp3raid.com</td>\n",
       "    </tr>\n",
       "    <tr>\n",
       "      <th>2</th>\n",
       "      <td>bopsecrets.org/rexroth/cr/1.htm</td>\n",
       "      <td>benign</td>\n",
       "      <td>0</td>\n",
       "      <td>31</td>\n",
       "      <td>bopsecrets.org</td>\n",
       "    </tr>\n",
       "    <tr>\n",
       "      <th>3</th>\n",
       "      <td>http://garage-pirenne.be/index.php?option=com_...</td>\n",
       "      <td>defacement</td>\n",
       "      <td>1</td>\n",
       "      <td>84</td>\n",
       "      <td>garage-pirenne.be</td>\n",
       "    </tr>\n",
       "    <tr>\n",
       "      <th>4</th>\n",
       "      <td>http://adventure-nicaragua.net/index.php?optio...</td>\n",
       "      <td>defacement</td>\n",
       "      <td>1</td>\n",
       "      <td>235</td>\n",
       "      <td>adventure-nicaragua.net</td>\n",
       "    </tr>\n",
       "  </tbody>\n",
       "</table>\n",
       "</div>"
      ],
      "text/plain": [
       "                                                 url        type  Category  \\\n",
       "0                                   br-icloud.com.br    phishing         2   \n",
       "1                mp3raid.com/music/krizz_kaliko.html      benign         0   \n",
       "2                    bopsecrets.org/rexroth/cr/1.htm      benign         0   \n",
       "3  http://garage-pirenne.be/index.php?option=com_...  defacement         1   \n",
       "4  http://adventure-nicaragua.net/index.php?optio...  defacement         1   \n",
       "\n",
       "   url_len                   domain  \n",
       "0       16         br-icloud.com.br  \n",
       "1       35              mp3raid.com  \n",
       "2       31           bopsecrets.org  \n",
       "3       84        garage-pirenne.be  \n",
       "4      235  adventure-nicaragua.net  "
      ]
     },
     "metadata": {},
     "output_type": "display_data"
    }
   ],
   "source": [
    "data.head()"
   ]
  },
  {
   "cell_type": "markdown",
   "id": "f7b07cd5",
   "metadata": {},
   "source": [
    "### Recorremos la lista de caracteres especiales y creamos una columna por cada uno.\n",
    "\n",
    "    1. Calculamos cuántos @ tiene la URL.\n",
    "    \n",
    "    2. Estos símbolos son típicos en URLs falsas que intentan engañar al usuario."
   ]
  },
  {
   "cell_type": "code",
   "execution_count": null,
   "id": "4e4ed88c",
   "metadata": {},
   "outputs": [],
   "source": [
    "feature = ['@','?','-','=','.','#','%','+','$','!','*',',','//']\n",
    "for a in feature:\n",
    "    data[a] = data['url'].apply(lambda i: i.count(a))"
   ]
  },
  {
   "cell_type": "code",
   "execution_count": null,
   "id": "9d3f67ac",
   "metadata": {},
   "outputs": [],
   "source": [
    "data.head()"
   ]
  },
  {
   "cell_type": "markdown",
   "id": "b944d17c",
   "metadata": {},
   "source": [
    "### Verificamos si ¿La URL es \"anormal\"?\n",
    "\n",
    "    1. Comparamos el hostname real con lo que aparece en la URL.\n",
    "    \n",
    "    2. Si no coinciden, la URL se marca como anormal (0/1) → típico en phishing."
   ]
  },
  {
   "cell_type": "code",
   "execution_count": null,
   "id": "6b705bac",
   "metadata": {},
   "outputs": [],
   "source": [
    "def abnormal_url(url):\n",
    "    hostname = urlparse(url).hostname\n",
    "    hostname = str(hostname)\n",
    "    match = re.search(hostname, url)\n",
    "    if match:\n",
    "        # print match.group()\n",
    "        return 1\n",
    "    else:\n",
    "        # print 'No matching pattern found'\n",
    "        return 0"
   ]
  },
  {
   "cell_type": "code",
   "execution_count": null,
   "id": "0378c8cd",
   "metadata": {},
   "outputs": [],
   "source": [
    "data['abnormal_url'] = data['url'].apply(lambda i: abnormal_url(i))"
   ]
  },
  {
   "cell_type": "code",
   "execution_count": null,
   "id": "3b006fe0",
   "metadata": {},
   "outputs": [
    {
     "data": {
      "image/png": "[encoded data removed]",
      "text/plain": [
       "<Figure size 432x288 with 1 Axes>"
      ]
     },
     "metadata": {},
     "output_type": "display_data"
    }
   ],
   "source": [
    "sns.countplot(x='abnormal_url', data=data);"
   ]
  },
  {
   "cell_type": "markdown",
   "id": "783bde3e",
   "metadata": {},
   "source": [
    "### Verificamos si el enlace ¿Usa HTTPS?\n",
    "\n",
    "    1. 1 = usa HTTPS, 0 = No.\n",
    "    \n",
    "    2. Muchas webs falsas no usan HTTPS."
   ]
  },
  {
   "cell_type": "code",
   "execution_count": null,
   "id": "510bf1e4",
   "metadata": {},
   "outputs": [],
   "source": [
    "def httpSecure(url):\n",
    "    htp = urlparse(url).scheme\n",
    "    match = str(htp)\n",
    "    if match=='https':\n",
    "        # print match.group()\n",
    "        return 1\n",
    "    else:\n",
    "        # print 'No matching pattern found'\n",
    "        return 0"
   ]
  },
  {
   "cell_type": "code",
   "execution_count": null,
   "id": "67f150cc",
   "metadata": {},
   "outputs": [],
   "source": [
    "data['https'] = data['url'].apply(lambda i: httpSecure(i))"
   ]
  },
  {
   "cell_type": "code",
   "execution_count": null,
   "id": "c692e33d",
   "metadata": {},
   "outputs": [
    {
     "data": {
      "image/png": "[encoded data removed]",
      "text/plain": [
       "<Figure size 432x288 with 1 Axes>"
      ]
     },
     "metadata": {},
     "output_type": "display_data"
    }
   ],
   "source": [
    "sns.countplot(x='https', data=data);"
   ]
  },
  {
   "cell_type": "markdown",
   "id": "a0d0cfc6",
   "metadata": {},
   "source": [
    "<h4>Counts the number of digit characters in a URL</h4>"
   ]
  },
  {
   "cell_type": "markdown",
   "id": "f36e2b26",
   "metadata": {},
   "source": [
    "### Verificamos contando dígitos y letras\n",
    "    \n",
    "    1. Añade cuántos números (digits) y letras (letters) tiene la URL.\n",
    "    \n",
    "    2. Un exceso de números en el dominio suele ser sospechoso."
   ]
  },
  {
   "cell_type": "code",
   "execution_count": null,
   "id": "28810193",
   "metadata": {},
   "outputs": [],
   "source": [
    "def digit_count(url):\n",
    "    digits = 0\n",
    "    for i in url:\n",
    "        if i.isnumeric():\n",
    "            digits = digits + 1\n",
    "    return digits"
   ]
  },
  {
   "cell_type": "code",
   "execution_count": null,
   "id": "608ea142",
   "metadata": {},
   "outputs": [],
   "source": [
    "data['digits']= data['url'].apply(lambda i: digit_count(i))"
   ]
  },
  {
   "cell_type": "markdown",
   "id": "76263795",
   "metadata": {},
   "source": [
    "<h4>Counts the number of letter characters in a URL</h4>"
   ]
  },
  {
   "cell_type": "code",
   "execution_count": null,
   "id": "225e13db",
   "metadata": {},
   "outputs": [],
   "source": [
    "def letter_count(url):\n",
    "    letters = 0\n",
    "    for i in url:\n",
    "        if i.isalpha():\n",
    "            letters = letters + 1\n",
    "    return letters"
   ]
  },
  {
   "cell_type": "code",
   "execution_count": null,
   "id": "5a5e9e97",
   "metadata": {},
   "outputs": [],
   "source": [
    "data['letters']= data['url'].apply(lambda i: letter_count(i))"
   ]
  },
  {
   "cell_type": "markdown",
   "id": "f51d920a",
   "metadata": {},
   "source": [
    "<h4>Checks to see whether URL contains a shortening service</h4>"
   ]
  },
  {
   "cell_type": "markdown",
   "id": "49f07b31",
   "metadata": {},
   "source": [
    "### Verificamos si ¿La URL contiene una dirección IP?\n",
    "\n",
    "    1. Verificamos si la URL viene de un servicio acortador.\n",
    "    \n",
    "    2. Muy usado por atacantes para ocultar el destino real.\n",
    "\n",
    "### Definimos una Funcion acortadores de un repositorio conocido."
   ]
  },
  {
   "cell_type": "code",
   "execution_count": null,
   "id": "95394504",
   "metadata": {},
   "outputs": [],
   "source": [
    "def Shortining_Service(url):\n",
    "    match = re.search('bit\\.ly|goo\\.gl|shorte\\.st|go2l\\.ink|x\\.co|ow\\.ly|t\\.co|tinyurl|tr\\.im|is\\.gd|cli\\.gs|'\n",
    "                      'yfrog\\.com|migre\\.me|ff\\.im|tiny\\.cc|url4\\.eu|twit\\.ac|su\\.pr|twurl\\.nl|snipurl\\.com|'\n",
    "                      'short\\.to|BudURL\\.com|ping\\.fm|post\\.ly|Just\\.as|bkite\\.com|snipr\\.com|fic\\.kr|loopt\\.us|'\n",
    "                      'doiop\\.com|short\\.ie|kl\\.am|wp\\.me|rubyurl\\.com|om\\.ly|to\\.ly|bit\\.do|t\\.co|lnkd\\.in|'\n",
    "                      'db\\.tt|qr\\.ae|adf\\.ly|goo\\.gl|bitly\\.com|cur\\.lv|tinyurl\\.com|ow\\.ly|bit\\.ly|ity\\.im|'\n",
    "                      'q\\.gs|is\\.gd|po\\.st|bc\\.vc|twitthis\\.com|u\\.to|j\\.mp|buzurl\\.com|cutt\\.us|u\\.bb|yourls\\.org|'\n",
    "                      'x\\.co|prettylinkpro\\.com|scrnch\\.me|filoops\\.info|vzturl\\.com|qr\\.net|1url\\.com|tweez\\.me|v\\.gd|'\n",
    "                      'tr\\.im|link\\.zip\\.net',\n",
    "                      url)\n",
    "    if match:\n",
    "        return 1\n",
    "    else:\n",
    "        return 0"
   ]
  },
  {
   "cell_type": "code",
   "execution_count": null,
   "id": "1a739d6e",
   "metadata": {},
   "outputs": [],
   "source": [
    "data['Shortining_Service'] = data['url'].apply(lambda x: Shortining_Service(x))"
   ]
  },
  {
   "cell_type": "code",
   "execution_count": null,
   "id": "424a73b3",
   "metadata": {},
   "outputs": [
    {
     "data": {
      "image/png": "[encoded data removed]",
      "text/plain": [
       "<Figure size 432x288 with 1 Axes>"
      ]
     },
     "metadata": {},
     "output_type": "display_data"
    }
   ],
   "source": [
    "##sns.countplot(x='Shortining_Service', data=data);"
   ]
  },
  {
   "cell_type": "markdown",
   "id": "9abc6024",
   "metadata": {},
   "source": [
    "### Verificamos si ¿La URL contiene una dirección IP?\n",
    "\n",
    "    1. Si el dominio es directamente una IP (ej: http://192.168.1.1/...), es muy sospechoso.\n",
    "    \n",
    "    2. Los sitios legítimos casi nunca usan IP en lugar de dominio."
   ]
  },
  {
   "cell_type": "code",
   "execution_count": null,
   "id": "72846e4c",
   "metadata": {},
   "outputs": [],
   "source": [
    "def having_ip_address(url):\n",
    "    match = re.search(\n",
    "        '(([01]?\\\\d\\\\d?|2[0-4]\\\\d|25[0-5])\\\\.([01]?\\\\d\\\\d?|2[0-4]\\\\d|25[0-5])\\\\.([01]?\\\\d\\\\d?|2[0-4]\\\\d|25[0-5])\\\\.'\n",
    "        '([01]?\\\\d\\\\d?|2[0-4]\\\\d|25[0-5])\\\\/)|'  # IPv4\n",
    "        '(([01]?\\\\d\\\\d?|2[0-4]\\\\d|25[0-5])\\\\.([01]?\\\\d\\\\d?|2[0-4]\\\\d|25[0-5])\\\\.([01]?\\\\d\\\\d?|2[0-4]\\\\d|25[0-5])\\\\.'\n",
    "        '([01]?\\\\d\\\\d?|2[0-4]\\\\d|25[0-5])\\\\/)|'  # IPv4 with port\n",
    "        '((0x[0-9a-fA-F]{1,2})\\\\.(0x[0-9a-fA-F]{1,2})\\\\.(0x[0-9a-fA-F]{1,2})\\\\.(0x[0-9a-fA-F]{1,2})\\\\/)' # IPv4 in hexadecimal\n",
    "        '(?:[a-fA-F0-9]{1,4}:){7}[a-fA-F0-9]{1,4}|'\n",
    "        '([0-9]+(?:\\.[0-9]+){3}:[0-9]+)|'\n",
    "        '((?:(?:\\d|[01]?\\d\\d|2[0-4]\\d|25[0-5])\\.){3}(?:25[0-5]|2[0-4]\\d|[01]?\\d\\d|\\d)(?:\\/\\d{1,2})?)', url)  # Ipv6\n",
    "    if match:\n",
    "        return 1\n",
    "    else:\n",
    "        return 0"
   ]
  },
  {
   "cell_type": "code",
   "execution_count": null,
   "id": "c5c08d64",
   "metadata": {},
   "outputs": [],
   "source": [
    "data['having_ip_address'] = data['url'].apply(lambda i: having_ip_address(i))"
   ]
  },
  {
   "cell_type": "code",
   "execution_count": null,
   "id": "430cff8b",
   "metadata": {},
   "outputs": [
    {
     "data": {
      "text/plain": [
       "0    638703\n",
       "1     12488\n",
       "Name: having_ip_address, dtype: int64"
      ]
     },
     "metadata": {},
     "output_type": "display_data"
    }
   ],
   "source": [
    "data['having_ip_address'].value_counts()"
   ]
  },
  {
   "cell_type": "markdown",
   "id": "35f6dadf",
   "metadata": {},
   "source": [
    "# Matriz de Correlación\n",
    "\n",
    "    1. Visualiza cómo se relacionan las variables entre sí.\n",
    "    \n",
    "    2. url_len se correlacionarse con la cantidad de símbolos especiales."
   ]
  },
  {
   "cell_type": "code",
   "execution_count": null,
   "id": "6d43b630",
   "metadata": {},
   "outputs": [
    {
     "data": {
      "text/plain": [
       "<AxesSubplot:>"
      ]
     },
     "metadata": {},
     "output_type": "display_data"
    },
    {
     "data": {
      "image/png": "[encoded data removed]",
      "text/plain": [
       "<Figure size 1080x1080 with 2 Axes>"
      ]
     },
     "metadata": {},
     "output_type": "display_data"
    }
   ],
   "source": [
    "plt.figure(figsize=(15, 15))\n",
    "sns.heatmap(data.corr(), linewidths=.5)"
   ]
  },
  {
   "cell_type": "markdown",
   "id": "6e4f4304",
   "metadata": {},
   "source": [
    "# Preparar datos para los Modelos de Machine Learning"
   ]
  },
  {
   "cell_type": "markdown",
   "id": "45ee68b6",
   "metadata": {},
   "source": [
    "**1. X: todas las features numéricas extraídas.**\n",
    "    \n",
    "**2. y: la categoría (benign=0, defacement=1, phishing=2, malware=3).**"
   ]
  },
  {
   "cell_type": "code",
   "execution_count": null,
   "id": "24028d84",
   "metadata": {},
   "outputs": [],
   "source": [
    "X = data.drop(['url','type','Category','domain'],axis=1)#,'type_code'\n",
    "y = data['Category']"
   ]
  },
  {
   "cell_type": "markdown",
   "id": "8d2c0e85",
   "metadata": {},
   "source": [
    "<a id=\"6\"></a> <br>\n",
    "# ✂️ Train & Test Split"
   ]
  },
  {
   "cell_type": "markdown",
   "id": "d972e16a",
   "metadata": {},
   "source": [
    "### Se separan los datos en 80% entrenamiento y 20% prueba."
   ]
  },
  {
   "cell_type": "code",
   "execution_count": null,
   "id": "a8608542",
   "metadata": {},
   "outputs": [],
   "source": [
    "X_train, X_test, y_train, y_test = train_test_split(X, y, test_size=0.2, random_state=2)"
   ]
  },
  {
   "cell_type": "markdown",
   "id": "6265ed11",
   "metadata": {},
   "source": [
    "## En todo el bloque se convierte URLs de texto en vectores de números que contienen patrones de seguridad (longitud, símbolos, HTTPS, IP, acortadores, etc.)."
   ]
  },
  {
   "cell_type": "markdown",
   "id": "01b064e8",
   "metadata": {},
   "source": [
    "<a id=\"7\"></a> <br>\n",
    "# <img src=\"https://cdn-icons-png.flaticon.com/32/4149/4149680.png\"/> Training models"
   ]
  },
  {
   "cell_type": "markdown",
   "id": "25b70c78",
   "metadata": {},
   "source": [
    "### Importamos las funciones de la biblioteca scikit-learn, que se usa en machine learning con Python\n",
    "\n",
    "Creamos la matriz de confusión con `plot_confusion_matrix` el cual corresponde a un modelo de clasificación, para visualizar los resultados de la matriz. \n",
    "La matriz de confusión indica cuántas predicciones fueron correctas y cuántas incorrectas, separadas por clase.\n",
    "- Ejes: filas = clases reales, columnas = clases predichas.\n",
    "\n",
    "La curva `ROC (Receiver Operating Characteristic)`, evalúa el rendimiento de un modelo de clasificación binaria.\n",
    "- Ejes: Tasa de verdaderos positivos vs. tasa de falsos positivos.\n",
    "- Área bajo la curva (AUC): cuanto más cerca de 1, mejor el modelo.\n",
    "- Útil para: comparar modelos, especialmente cuando hay clases desbalanceadas.\n"
   ]
  },
  {
   "cell_type": "code",
   "execution_count": null,
   "id": "e8d496d1",
   "metadata": {},
   "outputs": [],
   "source": [
    "from sklearn.metrics import plot_confusion_matrix\n",
    "from sklearn.metrics import plot_roc_curve"
   ]
  },
  {
   "cell_type": "markdown",
   "id": "99e77f85",
   "metadata": {},
   "source": [
    "## Definimos una lista de modelos de Machine Learning para probar\n",
    "\n",
    "### Los modelos son:\n",
    "- Árbol de decisión (DecisionTreeClassifier)\n",
    "- Bosque aleatorio (RandomForestClassifier)\n",
    "- AdaBoost (AdaBoostClassifier)\n",
    "- KNN (KNeighborsClassifier)\n",
    "- SGD (Stochastic Gradient Descent)\n",
    "- ExtraTreesClassifier (árboles extremadamente aleatorios)\n",
    "- Naive Bayes Gaussiano (GaussianNB)"
   ]
  },
  {
   "cell_type": "code",
   "execution_count": null,
   "id": "1e790ab4",
   "metadata": {},
   "outputs": [],
   "source": [
    "models = [DecisionTreeClassifier,RandomForestClassifier,AdaBoostClassifier,KNeighborsClassifier,SGDClassifier,\n",
    "         ExtraTreesClassifier,GaussianNB]"
   ]
  },
  {
   "cell_type": "markdown",
   "id": "e635ca0f",
   "metadata": {},
   "source": [
    "### Creamos una lista vacía para ir guardando la accuracy (exactitud) de cada modelo."
   ]
  },
  {
   "cell_type": "code",
   "execution_count": null,
   "id": "064b53f7",
   "metadata": {},
   "outputs": [],
   "source": [
    "accuracy_test=[]"
   ]
  },
  {
   "cell_type": "markdown",
   "id": "6b910fe8",
   "metadata": {},
   "source": [
    "### Inicializamos un bucle para recorrer cada modelo de la lista - m corresponde la clase del modelo en cada interracción.\n",
    "- model_ = DecisionTreeClassifier() y sucesivamente con el resto de modelos."
   ]
  },
  {
   "cell_type": "code",
   "execution_count": null,
   "id": "b1a42780",
   "metadata": {},
   "outputs": [
    {
     "name": "stdout",
     "output_type": "stream",
     "text": [
      "#############################################\n",
      "######-Model =>\u001b[07m <class 'sklearn.tree._classes.DecisionTreeClassifier'> \u001b[0m\n",
      "Test Accuracy :\u001b[32m \u001b[01m 90.93% \u001b[30m \u001b[0m\n",
      "\u001b[01m              Classification_report \u001b[0m\n",
      "              precision    recall  f1-score   support\n",
      "\n",
      "           0       0.92      0.97      0.94     85565\n",
      "           1       0.93      0.96      0.94     19319\n",
      "           2       0.80      0.57      0.66     18805\n",
      "           3       0.94      0.91      0.93      6550\n",
      "\n",
      "    accuracy                           0.91    130239\n",
      "   macro avg       0.90      0.85      0.87    130239\n",
      "weighted avg       0.90      0.91      0.90    130239\n",
      "\n",
      "\u001b[01m             Confusion_matrix \u001b[0m\n"
     ]
    },
    {
     "data": {
      "image/png": "[encoded data removed]",
      "text/plain": [
       "<Figure size 432x288 with 2 Axes>"
      ]
     },
     "metadata": {},
     "output_type": "display_data"
    },
    {
     "name": "stdout",
     "output_type": "stream",
     "text": [
      "\u001b[31m###################- End -###################\u001b[0m\n",
      "#############################################\n",
      "######-Model =>\u001b[07m <class 'sklearn.ensemble._forest.RandomForestClassifier'> \u001b[0m\n",
      "Test Accuracy :\u001b[32m \u001b[01m 91.50% \u001b[30m \u001b[0m\n",
      "\u001b[01m              Classification_report \u001b[0m\n",
      "              precision    recall  f1-score   support\n",
      "\n",
      "           0       0.92      0.98      0.95     85565\n",
      "           1       0.94      0.97      0.95     19319\n",
      "           2       0.83      0.58      0.68     18805\n",
      "           3       0.96      0.91      0.94      6550\n",
      "\n",
      "    accuracy                           0.92    130239\n",
      "   macro avg       0.91      0.86      0.88    130239\n",
      "weighted avg       0.91      0.92      0.91    130239\n",
      "\n",
      "\u001b[01m             Confusion_matrix \u001b[0m\n"
     ]
    },
    {
     "data": {
      "image/png": "[encoded data removed]",
      "text/plain": [
       "<Figure size 432x288 with 2 Axes>"
      ]
     },
     "metadata": {},
     "output_type": "display_data"
    },
    {
     "name": "stdout",
     "output_type": "stream",
     "text": [
      "\u001b[31m###################- End -###################\u001b[0m\n",
      "#############################################\n",
      "######-Model =>\u001b[07m <class 'sklearn.ensemble._weight_boosting.AdaBoostClassifier'> \u001b[0m\n",
      "Test Accuracy :\u001b[32m \u001b[01m 82.01% \u001b[30m \u001b[0m\n",
      "\u001b[01m              Classification_report \u001b[0m\n",
      "              precision    recall  f1-score   support\n",
      "\n",
      "           0       0.84      0.98      0.90     85565\n",
      "           1       0.82      0.89      0.85     19319\n",
      "           2       0.45      0.15      0.22     18805\n",
      "           3       0.91      0.46      0.61      6550\n",
      "\n",
      "    accuracy                           0.82    130239\n",
      "   macro avg       0.75      0.62      0.65    130239\n",
      "weighted avg       0.78      0.82      0.78    130239\n",
      "\n",
      "\u001b[01m             Confusion_matrix \u001b[0m\n"
     ]
    },
    {
     "data": {
      "image/png": "[encoded data removed]",
      "text/plain": [
       "<Figure size 432x288 with 2 Axes>"
      ]
     },
     "metadata": {},
     "output_type": "display_data"
    },
    {
     "name": "stdout",
     "output_type": "stream",
     "text": [
      "\u001b[31m###################- End -###################\u001b[0m\n",
      "#############################################\n",
      "######-Model =>\u001b[07m <class 'sklearn.neighbors._classification.KNeighborsClassifier'> \u001b[0m\n",
      "Test Accuracy :\u001b[32m \u001b[01m 88.96% \u001b[30m \u001b[0m\n",
      "\u001b[01m              Classification_report \u001b[0m\n",
      "              precision    recall  f1-score   support\n",
      "\n",
      "           0       0.91      0.96      0.93     85565\n",
      "           1       0.89      0.95      0.92     19319\n",
      "           2       0.73      0.53      0.62     18805\n",
      "           3       0.94      0.87      0.91      6550\n",
      "\n",
      "    accuracy                           0.89    130239\n",
      "   macro avg       0.87      0.83      0.84    130239\n",
      "weighted avg       0.88      0.89      0.88    130239\n",
      "\n",
      "\u001b[01m             Confusion_matrix \u001b[0m\n"
     ]
    },
    {
     "data": {
      "image/png": "[encoded data removed]",
      "text/plain": [
       "<Figure size 432x288 with 2 Axes>"
      ]
     },
     "metadata": {},
     "output_type": "display_data"
    },
    {
     "name": "stdout",
     "output_type": "stream",
     "text": [
      "\u001b[31m###################- End -###################\u001b[0m\n",
      "#############################################\n",
      "######-Model =>\u001b[07m <class 'sklearn.linear_model._stochastic_gradient.SGDClassifier'> \u001b[0m\n",
      "Test Accuracy :\u001b[32m \u001b[01m 80.85% \u001b[30m \u001b[0m\n",
      "\u001b[01m              Classification_report \u001b[0m\n",
      "              precision    recall  f1-score   support\n",
      "\n",
      "           0       0.84      0.96      0.90     85565\n",
      "           1       0.72      0.98      0.83     19319\n",
      "           2       0.39      0.06      0.10     18805\n",
      "           3       0.90      0.50      0.64      6550\n",
      "\n",
      "    accuracy                           0.81    130239\n",
      "   macro avg       0.71      0.62      0.62    130239\n",
      "weighted avg       0.76      0.81      0.76    130239\n",
      "\n",
      "\u001b[01m             Confusion_matrix \u001b[0m\n"
     ]
    },
    {
     "data": {
      "image/png": "[encoded data removed]",
      "text/plain": [
       "<Figure size 432x288 with 2 Axes>"
      ]
     },
     "metadata": {},
     "output_type": "display_data"
    },
    {
     "name": "stdout",
     "output_type": "stream",
     "text": [
      "\u001b[31m###################- End -###################\u001b[0m\n",
      "#############################################\n",
      "######-Model =>\u001b[07m <class 'sklearn.ensemble._forest.ExtraTreesClassifier'> \u001b[0m\n",
      "Test Accuracy :\u001b[32m \u001b[01m 91.48% \u001b[30m \u001b[0m\n",
      "\u001b[01m              Classification_report \u001b[0m\n",
      "              precision    recall  f1-score   support\n",
      "\n",
      "           0       0.92      0.98      0.95     85565\n",
      "           1       0.93      0.97      0.95     19319\n",
      "           2       0.83      0.57      0.68     18805\n",
      "           3       0.97      0.91      0.94      6550\n",
      "\n",
      "    accuracy                           0.91    130239\n",
      "   macro avg       0.91      0.86      0.88    130239\n",
      "weighted avg       0.91      0.91      0.91    130239\n",
      "\n",
      "\u001b[01m             Confusion_matrix \u001b[0m\n"
     ]
    },
    {
     "data": {
      "image/png": "[encoded data removed]",
      "text/plain": [
       "<Figure size 432x288 with 2 Axes>"
      ]
     },
     "metadata": {},
     "output_type": "display_data"
    },
    {
     "name": "stdout",
     "output_type": "stream",
     "text": [
      "\u001b[31m###################- End -###################\u001b[0m\n",
      "#############################################\n",
      "######-Model =>\u001b[07m <class 'sklearn.naive_bayes.GaussianNB'> \u001b[0m\n",
      "Test Accuracy :\u001b[32m \u001b[01m 78.95% \u001b[30m \u001b[0m\n",
      "\u001b[01m              Classification_report \u001b[0m\n",
      "              precision    recall  f1-score   support\n",
      "\n",
      "           0       0.85      0.92      0.88     85565\n",
      "           1       0.66      1.00      0.79     19319\n",
      "           2       0.60      0.02      0.04     18805\n",
      "           3       0.61      0.70      0.65      6550\n",
      "\n",
      "    accuracy                           0.79    130239\n",
      "   macro avg       0.68      0.66      0.59    130239\n",
      "weighted avg       0.77      0.79      0.74    130239\n",
      "\n",
      "\u001b[01m             Confusion_matrix \u001b[0m\n"
     ]
    },
    {
     "data": {
      "image/png": "[encoded data removed]",
      "text/plain": [
       "<Figure size 432x288 with 2 Axes>"
      ]
     },
     "metadata": {},
     "output_type": "display_data"
    },
    {
     "name": "stdout",
     "output_type": "stream",
     "text": [
      "\u001b[31m###################- End -###################\u001b[0m\n"
     ]
    }
   ],
   "source": [
    "for m in models:\n",
    "    print('#############################################')\n",
    "    print('######-Model =>\\033[07m {} \\033[0m'.format(m))\n",
    "    model_ = m()  # Creamos una instancia del modelo () a partir de la clase.\n",
    "    \n",
    "    # Entrenamos el modelo con los datos\n",
    "    # X_train: features (variables) de entrenamiento.\n",
    "    # y_train: etiquetas (categorías: benign, phishing, malware, defacement).\n",
    "    \n",
    "    model_.fit(X_train, y_train) \n",
    "\n",
    "    # El modelo ya entrenado predice las etiquetas para los datos de prueba.\n",
    "    # pred contendrá las clases predichas (0,1,2,3).\n",
    "    \n",
    "    pred = model_.predict(X_test)\n",
    "\n",
    "    # Calculamos la accuracy (exactitud) comparando pred con las etiquetas reales (y_test).\n",
    "    \n",
    "    acc = accuracy_score(pred, y_test)\n",
    "\n",
    "    # Se almacena el valor en la lista accuracy_test.\n",
    "    \n",
    "    accuracy_test.append(acc)\n",
    "\n",
    "    # Imprime la exactitud del modelo en porcentaje \n",
    "    \n",
    "    print('Test Accuracy :\\033[32m \\033[01m {:.2f}% \\033[30m \\033[0m'.format(acc*100))\n",
    "\n",
    "    #Muestra el informe de clasificación, que incluye:\n",
    "        # precision (qué tan precisas son las predicciones por clase).\n",
    "        # recall (qué porcentaje de elementos de una clase fueron correctamente identificados).\n",
    "        # f1-score (media armónica de precision y recall).\n",
    "        # support (cantidad de ejemplos de cada clase en el test set).\n",
    "    \n",
    "    print('\\033[01m              Classification_report \\033[0m')\n",
    "    print(classification_report(y_test, pred))\n",
    "\n",
    "    # Calcula la matriz de confusión, que muestra cómo se distribuyeron los aciertos y errores entre clases.\n",
    "    \n",
    "    print('\\033[01m             Confusion_matrix \\033[0m')\n",
    "    cf_matrix = confusion_matrix(y_test, pred)\n",
    "\n",
    "    # Normaliza la matriz dividiendo por el total (np.sum(cf_matrix)), así los valores se ven en porcentaje.\n",
    "\n",
    "        # Usa sns.heatmap para graficar la matriz de confusión.\n",
    "        # annot=True pone los valores encima de cada celda.\n",
    "        # fmt='0.2%' los muestra en formato de porcentaje con dos decimales.\n",
    "        # plt.show() muestra el gráfico.\n",
    "    \n",
    "    plot_ = sns.heatmap(cf_matrix/np.sum(cf_matrix), annot=True,fmt= '0.2%')\n",
    "    plt.show()\n",
    "\n",
    "    # Imprime un separador en color rojo para indicar que terminó la iteracción del modelo\n",
    "    \n",
    "    print('\\033[31m###################- End -###################\\033[0m')"
   ]
  },
  {
   "cell_type": "code",
   "execution_count": null,
   "id": "cc19a1d3",
   "metadata": {},
   "outputs": [
    {
     "name": "stdout",
     "output_type": "stream",
     "text": [
      "         Modelo  Accuracy\n",
      "0  DecisionTree  0.909274\n",
      "1  RandomForest  0.915002\n",
      "2      AdaBoost  0.820077\n",
      "3           KNN  0.889618\n",
      "4           SGD  0.808544\n",
      "5    ExtraTrees  0.914787\n",
      "6    GaussianNB  0.789548\n"
     ]
    },
    {
     "data": {
      "image/png": "[encoded data removed]",
      "text/plain": [
       "<Figure size 720x432 with 1 Axes>"
      ]
     },
     "metadata": {},
     "output_type": "display_data"
    }
   ],
   "source": [
    "# Lista de nombres de modelos (en el mismo orden que 'models')\n",
    "model_names = [\n",
    "    \"DecisionTree\", \n",
    "    \"RandomForest\", \n",
    "    \"AdaBoost\", \n",
    "    \"KNN\", \n",
    "    \"SGD\", \n",
    "    \"ExtraTrees\", \n",
    "    \"GaussianNB\"\n",
    "]\n",
    "\n",
    "# Crear un DataFrame con resultados\n",
    "results = pd.DataFrame({\n",
    "    \"Modelo\": model_names,\n",
    "    \"Accuracy\": accuracy_test\n",
    "})\n",
    "\n",
    "# Mostrar tabla de resultados\n",
    "print(results)\n",
    "\n",
    "# Gráfico comparativo\n",
    "plt.figure(figsize=(10,6))\n",
    "sns.barplot(x=\"Modelo\", y=\"Accuracy\", data=results, palette=\"viridis\")\n",
    "plt.title(\"Comparación de Accuracy por Modelo\")\n",
    "plt.ylabel(\"Accuracy\")\n",
    "plt.ylim(0,1)   # escala de 0 a 100%\n",
    "plt.xticks(rotation=45)\n",
    "plt.show()\n"
   ]
  },
  {
   "cell_type": "markdown",
   "id": "a45a4b22",
   "metadata": {},
   "source": [
    "<a id=\"8\"></a> <br>\n",
    "# <img src=\"https://cdn-icons-png.flaticon.com/64/3094/3094836.png\"/> Final Report"
   ]
  },
  {
   "cell_type": "code",
   "execution_count": null,
   "id": "9b9276a0",
   "metadata": {},
   "outputs": [],
   "source": [
    "output = pd.DataFrame({\"Model\":['Decision Tree Classifier','Random Forest Classifier',\n",
    "                                'AdaBoost Classifier','KNeighbors Classifier','SGD Classifier',\n",
    "                                'Extra Trees Classifier','Gaussian NB'],\n",
    "                      \"Accuracy\":accuracy_test})"
   ]
  },
  {
   "cell_type": "code",
   "execution_count": null,
   "id": "b5c071df",
   "metadata": {},
   "outputs": [
    {
     "data": {
      "text/html": [
       "<div>\n",
       "<style scoped>\n",
       "    .dataframe tbody tr th:only-of-type {\n",
       "        vertical-align: middle;\n",
       "    }\n",
       "\n",
       "    .dataframe tbody tr th {\n",
       "        vertical-align: top;\n",
       "    }\n",
       "\n",
       "    .dataframe thead th {\n",
       "        text-align: right;\n",
       "    }\n",
       "</style>\n",
       "<table border=\"1\" class=\"dataframe\">\n",
       "  <thead>\n",
       "    <tr style=\"text-align: right;\">\n",
       "      <th></th>\n",
       "      <th>Model</th>\n",
       "      <th>Accuracy</th>\n",
       "    </tr>\n",
       "  </thead>\n",
       "  <tbody>\n",
       "    <tr>\n",
       "      <th>0</th>\n",
       "      <td>Decision Tree Classifier</td>\n",
       "      <td>0.909274</td>\n",
       "    </tr>\n",
       "    <tr>\n",
       "      <th>1</th>\n",
       "      <td>Random Forest Classifier</td>\n",
       "      <td>0.915002</td>\n",
       "    </tr>\n",
       "    <tr>\n",
       "      <th>2</th>\n",
       "      <td>AdaBoost Classifier</td>\n",
       "      <td>0.820077</td>\n",
       "    </tr>\n",
       "    <tr>\n",
       "      <th>3</th>\n",
       "      <td>KNeighbors Classifier</td>\n",
       "      <td>0.889618</td>\n",
       "    </tr>\n",
       "    <tr>\n",
       "      <th>4</th>\n",
       "      <td>SGD Classifier</td>\n",
       "      <td>0.808544</td>\n",
       "    </tr>\n",
       "    <tr>\n",
       "      <th>5</th>\n",
       "      <td>Extra Trees Classifier</td>\n",
       "      <td>0.914787</td>\n",
       "    </tr>\n",
       "    <tr>\n",
       "      <th>6</th>\n",
       "      <td>Gaussian NB</td>\n",
       "      <td>0.789548</td>\n",
       "    </tr>\n",
       "  </tbody>\n",
       "</table>\n",
       "</div>"
      ],
      "text/plain": [
       "                      Model  Accuracy\n",
       "0  Decision Tree Classifier  0.909274\n",
       "1  Random Forest Classifier  0.915002\n",
       "2       AdaBoost Classifier  0.820077\n",
       "3     KNeighbors Classifier  0.889618\n",
       "4            SGD Classifier  0.808544\n",
       "5    Extra Trees Classifier  0.914787\n",
       "6               Gaussian NB  0.789548"
      ]
     },
     "metadata": {},
     "output_type": "display_data"
    }
   ],
   "source": [
    "output"
   ]
  },
  {
   "cell_type": "code",
   "execution_count": null,
   "id": "ed04e651",
   "metadata": {},
   "outputs": [
    {
     "data": {
      "image/png": "[encoded data removed]",
      "text/plain": [
       "<Figure size 720x360 with 1 Axes>"
      ]
     },
     "metadata": {},
     "output_type": "display_data"
    }
   ],
   "source": [
    "plt.figure(figsize=(10, 5))\n",
    "plots = sns.barplot(x='Model', y='Accuracy', data=output)\n",
    "for bar in plots.patches:\n",
    "    plots.annotate(format(bar.get_height(), '.2f'),\n",
    "                   (bar.get_x() + bar.get_width() / 2,\n",
    "                    bar.get_height()), ha='center', va='center',\n",
    "                   size=15, xytext=(0, 8),\n",
    "                   textcoords='offset points')\n",
    "\n",
    "plt.xlabel(\"Models\", size=14)\n",
    "plt.xticks(rotation=20);\n",
    "plt.ylabel(\"Accuracy\", size=14)\n",
    "plt.show()"
   ]
  },
  {
   "cell_type": "code",
   "execution_count": null,
   "id": "bc60fc8a",
   "metadata": {},
   "outputs": [
    {
     "name": "stdout",
     "output_type": "stream",
     "text": [
      "         Modelo  Accuracy  Train_Time  Predict_Time\n",
      "0  DecisionTree  0.909443    2.922248      0.048012\n",
      "1  RandomForest  0.914734   82.589403      4.538696\n",
      "2      AdaBoost  0.820077   19.412343      1.089038\n",
      "3           KNN  0.889618    4.921289     27.184806\n",
      "4           SGD  0.818480   63.245043      0.014929\n",
      "5    ExtraTrees  0.914718   67.639833      5.886628\n",
      "6    GaussianNB  0.789548    0.217269      0.063333\n"
     ]
    },
    {
     "data": {
      "image/png": "[encoded data removed]",
      "text/plain": [
       "<Figure size 720x432 with 1 Axes>"
      ]
     },
     "metadata": {},
     "output_type": "display_data"
    },
    {
     "data": {
      "image/png": "[encoded data removed]",
      "text/plain": [
       "<Figure size 720x432 with 1 Axes>"
      ]
     },
     "metadata": {},
     "output_type": "display_data"
    },
    {
     "data": {
      "image/png": "[encoded data removed]",
      "text/plain": [
       "<Figure size 720x432 with 1 Axes>"
      ]
     },
     "metadata": {},
     "output_type": "display_data"
    }
   ],
   "source": [
    "import time\n",
    "\n",
    "models = [\n",
    "    DecisionTreeClassifier,\n",
    "    RandomForestClassifier,\n",
    "    AdaBoostClassifier,\n",
    "    KNeighborsClassifier,\n",
    "    SGDClassifier,\n",
    "    ExtraTreesClassifier,\n",
    "    GaussianNB\n",
    "]\n",
    "\n",
    "model_names = [\n",
    "    \"DecisionTree\", \n",
    "    \"RandomForest\", \n",
    "    \"AdaBoost\", \n",
    "    \"KNN\", \n",
    "    \"SGD\", \n",
    "    \"ExtraTrees\", \n",
    "    \"GaussianNB\"\n",
    "]\n",
    "\n",
    "accuracy_test = []\n",
    "train_times = []\n",
    "predict_times = []\n",
    "\n",
    "for m, name in zip(models, model_names):\n",
    "    \n",
    "    model_ = m()\n",
    "    \n",
    "    # Medir tiempo de entrenamiento\n",
    "    start_train = time.time()\n",
    "    model_.fit(X_train, y_train)\n",
    "    end_train = time.time()\n",
    "    train_time = end_train - start_train\n",
    "    \n",
    "    # Medir tiempo de predicción\n",
    "    start_pred = time.time()\n",
    "    pred = model_.predict(X_test)\n",
    "    end_pred = time.time()\n",
    "    pred_time = end_pred - start_pred\n",
    "    \n",
    "    # Guardar métricas\n",
    "    acc = accuracy_score(pred, y_test)\n",
    "    accuracy_test.append(acc)\n",
    "    train_times.append(train_time)\n",
    "    predict_times.append(pred_time)\n",
    "\n",
    "# Crear DataFrame de resultados\n",
    "results = pd.DataFrame({\n",
    "    \"Modelo\": model_names,\n",
    "    \"Accuracy\": accuracy_test,\n",
    "    \"Train_Time\": train_times,\n",
    "    \"Predict_Time\": predict_times\n",
    "})\n",
    "\n",
    "print(results)\n",
    "\n",
    "# Gráfico comparativo de accuracy\n",
    "plt.figure(figsize=(10,6))\n",
    "sns.barplot(x=\"Modelo\", y=\"Accuracy\", data=results, palette=\"viridis\")\n",
    "plt.title(\"Comparación de Accuracy por Modelo\")\n",
    "plt.ylabel(\"Accuracy\")\n",
    "plt.ylim(0,1)\n",
    "plt.xticks(rotation=45)\n",
    "plt.show()\n",
    "\n",
    "# Gráfico comparativo de tiempos de entrenamiento\n",
    "plt.figure(figsize=(10,6))\n",
    "sns.barplot(x=\"Modelo\", y=\"Train_Time\", data=results, palette=\"coolwarm\")\n",
    "plt.title(\"Tiempo de Entrenamiento por Modelo\")\n",
    "plt.ylabel(\"Segundos\")\n",
    "plt.xticks(rotation=45)\n",
    "plt.show()\n",
    "\n",
    "# Gráfico comparativo de tiempos de predicción\n",
    "plt.figure(figsize=(10,6))\n",
    "sns.barplot(x=\"Modelo\", y=\"Predict_Time\", data=results, palette=\"mako\")\n",
    "plt.title(\"Tiempo de Predicción por Modelo\")\n",
    "plt.ylabel(\"Segundos\")\n",
    "plt.xticks(rotation=45)\n",
    "plt.show()\n"
   ]
  },
  {
   "cell_type": "markdown",
   "id": "5282ee22",
   "metadata": {},
   "source": [
    "<a id=\"9\"></a> <br>\n",
    "# ✨ Conclusiones"
   ]
  },
  {
   "cell_type": "markdown",
   "id": "2648a489",
   "metadata": {},
   "source": [
    "### 1. Precisión de los modelos:\n",
    "\n",
    "- RandomForest y ExtraTrees logran la mayor precisión (~ 91,5%), seguidos de DecisionTree (~ 90,9%).\n",
    "- Modelos simples como GaussianNB y SGD presentan menor precisión (~ 78–81%).\n",
    "\n",
    "### 2. Tiempo de entrenamiento y predicción:\n",
    "\n",
    "- DecisionTree y GaussianNB son rápidos en entrenamiento y predicción.\n",
    "- RandomForest y ExtraTrees requieren mayor tiempo de entrenamiento y predicción.\n",
    "- KNN tiene predicción muy lenta, poco práctico para tiempo real.\n",
    "\n",
    "### 3. Balance precisión-tiempo:\n",
    "\n",
    "- DecisionTree ofrece el mejor equilibrio entre precisión y eficiencia.\n",
    "- RandomForest y ExtraTrees recomendables si se prioriza la máxima precisión y el tiempo no es crítico.\n",
    "\n",
    "### 4. Recomendaciones de uso:\n",
    "\n",
    "- Producción en tiempo real: DecisionTree o GaussianNB.\n",
    "- Máxima precisión sin límite de tiempo: RandomForest o ExtraTrees.\n",
    "- Evitar en producción: KNN y modelos de baja precisión como SGD/AdaBoost.Aqui las conclusiones"
   ]
  }
 ],
 "metadata": {
  "language_info": {
   "name": "python"
  }
 },
 "nbformat": 4,
 "nbformat_minor": 5
}
