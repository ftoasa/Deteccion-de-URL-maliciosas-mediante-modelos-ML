{
 "cells": [
  {
   "cell_type": "markdown",
   "id": "431c7b4b",
   "metadata": {},
   "source": [
    "# Detección de URL Maliciosas mediante modelos Machine Learning"
   ]
  }
 ],
 "metadata": {
  "language_info": {
   "name": "python"
  }
 },
 "nbformat": 4,
 "nbformat_minor": 5
}
